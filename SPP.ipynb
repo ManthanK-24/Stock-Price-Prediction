{
 "cells": [
  {
   "cell_type": "code",
   "execution_count": 2,
   "metadata": {},
   "outputs": [
    {
     "name": "stdout",
     "output_type": "stream",
     "text": [
      "248\n"
     ]
    },
    {
     "name": "stderr",
     "output_type": "stream",
     "text": [
      "C:\\Users\\MANTHAN\\Anaconda3\\lib\\site-packages\\pandas\\plotting\\_matplotlib\\converter.py:103: FutureWarning: Using an implicitly registered datetime converter for a matplotlib plotting method. The converter was registered by pandas on import. Future versions of pandas will require you to explicitly register matplotlib converters.\n",
      "\n",
      "To register the converters:\n",
      "\t>>> from pandas.plotting import register_matplotlib_converters\n",
      "\t>>> register_matplotlib_converters()\n",
      "  warnings.warn(msg, FutureWarning)\n"
     ]
    },
    {
     "data": {
      "text/plain": [
       "<Figure size 500x500 with 1 Axes>"
      ]
     },
     "metadata": {},
     "output_type": "display_data"
    },
    {
     "data": {
      "text/plain": [
       "<Figure size 500x500 with 1 Axes>"
      ]
     },
     "metadata": {},
     "output_type": "display_data"
    },
    {
     "data": {
      "text/plain": [
       "<Figure size 500x500 with 1 Axes>"
      ]
     },
     "metadata": {},
     "output_type": "display_data"
    },
    {
     "data": {
      "text/plain": [
       "<Figure size 500x500 with 1 Axes>"
      ]
     },
     "metadata": {},
     "output_type": "display_data"
    },
    {
     "name": "stderr",
     "output_type": "stream",
     "text": [
      "C:\\Users\\MANTHAN\\Anaconda3\\lib\\site-packages\\ipykernel_launcher.py:71: SettingWithCopyWarning: \n",
      "A value is trying to be set on a copy of a slice from a DataFrame.\n",
      "Try using .loc[row_indexer,col_indexer] = value instead\n",
      "\n",
      "See the caveats in the documentation: http://pandas.pydata.org/pandas-docs/stable/user_guide/indexing.html#returning-a-view-versus-a-copy\n"
     ]
    },
    {
     "name": "stdout",
     "output_type": "stream",
     "text": [
      "\n",
      " RMSE value on validation set for 1st split:\n",
      "15.576217200695408\n"
     ]
    },
    {
     "name": "stderr",
     "output_type": "stream",
     "text": [
      "C:\\Users\\MANTHAN\\Anaconda3\\lib\\site-packages\\ipykernel_launcher.py:108: SettingWithCopyWarning: \n",
      "A value is trying to be set on a copy of a slice from a DataFrame.\n",
      "Try using .loc[row_indexer,col_indexer] = value instead\n",
      "\n",
      "See the caveats in the documentation: http://pandas.pydata.org/pandas-docs/stable/user_guide/indexing.html#returning-a-view-versus-a-copy\n"
     ]
    },
    {
     "name": "stdout",
     "output_type": "stream",
     "text": [
      "\n",
      " RMSE value on validation set for 2nd split:\n",
      "17.5044287709972\n",
      "\n",
      " RMSE value on validation set for 3rd split:\n",
      "13.163982513387612\n",
      "\n",
      "Average RMSE value of dataset\n",
      "15.414876161693408\n"
     ]
    },
    {
     "name": "stderr",
     "output_type": "stream",
     "text": [
      "C:\\Users\\MANTHAN\\Anaconda3\\lib\\site-packages\\ipykernel_launcher.py:143: SettingWithCopyWarning: \n",
      "A value is trying to be set on a copy of a slice from a DataFrame.\n",
      "Try using .loc[row_indexer,col_indexer] = value instead\n",
      "\n",
      "See the caveats in the documentation: http://pandas.pydata.org/pandas-docs/stable/user_guide/indexing.html#returning-a-view-versus-a-copy\n"
     ]
    }
   ],
   "source": [
    "import pandas as pd\n",
    "import numpy as np\n",
    "#import statsmodels.api as sm\n",
    "dframe=pd.read_csv('NSE-TATAGLOBAL11.csv')\n",
    "close=dframe['Close']\n",
    "dframe['Date']=pd.to_datetime(dframe['Date'])\n",
    "dframe['year']=dframe['Date'].dt.year\n",
    "\n",
    "\n",
    "\n",
    "\n",
    "\n",
    "\n",
    "cls1=dframe[dframe.year<2017]\n",
    "\n",
    "cls2=dframe[dframe.year==2017]\n",
    "cls3=dframe[dframe.year>=2018]\n",
    "print(len(cls2.Date))\n",
    "close1=dframe[dframe.year<2017].Close\n",
    "close2=dframe[dframe.year==2017].Close\n",
    "close3=dframe[dframe.year>=2018].Close\n",
    "\n",
    "\n",
    "\n",
    "import matplotlib.pyplot as plt\n",
    "\n",
    "#plot 1\n",
    "plt.figure(figsize=(5,5))\n",
    "plt.scatter(cls1.Date,close1)\n",
    "plt.xlabel('date')\n",
    "plt.ylabel('close')\n",
    "plt.title('Dataset 1')\n",
    "plt.show()\n",
    "\n",
    "#plot 2\n",
    "plt.figure(figsize=(5,5))\n",
    "plt.scatter(cls2.Date,close2)\n",
    "plt.xlabel('date')\n",
    "plt.ylabel('close')\n",
    "plt.title('Dateset 2')\n",
    "plt.show()\n",
    "\n",
    "#plot 3\n",
    "plt.figure(figsize=(5,5))\n",
    "plt.scatter(cls3.Date,close3)\n",
    "plt.xlabel('date')\n",
    "plt.ylabel('close')\n",
    "plt.title('Dataset 3')\n",
    "plt.show()\n",
    "\n",
    "\n",
    "#plot complete\n",
    "plt.figure(figsize=(5,5))\n",
    "plt.scatter(dframe['Date'],close)\n",
    "plt.xlabel('date')\n",
    "plt.ylabel('close')\n",
    "plt.title('Dataset(Complete)')\n",
    "plt.show()\n",
    "\n",
    "\n",
    "\n",
    "\n",
    "\n",
    "\n",
    "\n",
    "\n",
    "#############################################################################################\n",
    "\n",
    "\n",
    "#applying linear regression on 1st cluster ie <2017\n",
    "cls1['Date'] = pd.to_datetime(cls1.Date,format='%Y-%m-%d')\n",
    "cls1.index = cls1['Date']\n",
    "\n",
    "#creating dataframe with date and the target variable\n",
    "data = cls1.sort_index(ascending=True, axis=0)\n",
    "new_data = pd.DataFrame(index=range(0,len(cls1)),columns=['Date', 'Close'])\n",
    "\n",
    "for i in range(0,len(data)):\n",
    "     new_data['Date'][i] = data['Date'][i]\n",
    "     new_data['Close'][i] = data['Close'][i]\n",
    "\n",
    "# NOTE: While splitting the data into train and validation set, we cannot use random splitting since that will destroy the time component. So here we have set the last year’s data into validation and the 4 years’ data before that into train set.\n",
    "\n",
    "# splitting into train and validation\n",
    "train = new_data[:650]\n",
    "valid = new_data[650:]\n",
    "\n",
    "\n",
    "# In the next step, we will create predictions for the validation set and check the RMSE using the actual values.\n",
    "# making predictions\n",
    "preds = []\n",
    "for i in range(0,valid.shape[0]):\n",
    "    a = train['Close'][len(train)-147+i:].sum() + sum(preds)\n",
    "    b = a/147\n",
    "    preds.append(b)\n",
    "\n",
    "# checking the results (RMSE value)\n",
    "rms1=np.sqrt(np.mean(np.power((np.array(valid['Close'])-preds),2)))\n",
    "print('\\n RMSE value on validation set for 1st split:')\n",
    "print(rms1)\n",
    "\n",
    "\n",
    "\n",
    "\n",
    "###########################################################################################\n",
    "\n",
    "#applying linear regression on 2nd cluster ie between 2017 and 2018\n",
    "cls2['Date'] = pd.to_datetime(cls2.Date,format='%Y-%m-%d')\n",
    "cls2.index = cls2['Date']\n",
    "\n",
    "#creating dataframe with date and the target variable\n",
    "data = cls2.sort_index(ascending=True, axis=0)\n",
    "new_data = pd.DataFrame(index=range(0,len(cls2)),columns=['Date', 'Close'])\n",
    "\n",
    "for i in range(0,len(data)):\n",
    "     new_data['Date'][i] = data['Date'][i]\n",
    "     new_data['Close'][i] = data['Close'][i]\n",
    "\n",
    "# NOTE: While splitting the data into train and validation set, we cannot use random splitting since that will destroy the time component. So here we have set the last year’s data into validation and the 4 years’ data before that into train set.\n",
    "\n",
    "# splitting into train and validation\n",
    "train = new_data[:240]\n",
    "valid = new_data[240:]\n",
    "\n",
    "\n",
    "\n",
    "# In the next step, we will create predictions for the validation set and check the RMSE using the actual values.\n",
    "# making predictions\n",
    "preds = []\n",
    "for i in range(0,valid.shape[0]):\n",
    "    a = train['Close'][len(train)-8+i:].sum() + sum(preds)\n",
    "    b = a/8\n",
    "    preds.append(b)\n",
    "\n",
    "# checking the results (RMSE value)\n",
    "rms2=np.sqrt(np.mean(np.power((np.array(valid['Close'])-preds),2)))\n",
    "print('\\n RMSE value on validation set for 2nd split:')\n",
    "print(rms2)\n",
    "\n",
    "#################################################################################################\n",
    "\n",
    "#applying linear rgeression on 3 cluster ie >2018\n",
    "cls3['Date'] = pd.to_datetime(cls3.Date,format='%Y-%m-%d')\n",
    "cls3.index = cls3['Date']\n",
    "\n",
    "#creating dataframe with date and the target variable\n",
    "data = cls3.sort_index(ascending=True, axis=0)\n",
    "new_data = pd.DataFrame(index=range(0,len(cls3)),columns=['Date', 'Close'])\n",
    "\n",
    "for i in range(0,len(data)):\n",
    "     new_data['Date'][i] = data['Date'][i]\n",
    "     new_data['Close'][i] = data['Close'][i]\n",
    "\n",
    "# NOTE: While splitting the data into train and validation set, we cannot use random splitting since that will destroy the time component. So here we have set the last year’s data into validation and the 4 years’ data before that into train set.\n",
    "\n",
    "# splitting into train and validation\n",
    "train = new_data[:160]\n",
    "valid = new_data[160:]\n",
    "\n",
    "\n",
    "\n",
    "# In the next step, we will create predictions for the validation set and check the RMSE using the actual values.\n",
    "# making predictions\n",
    "preds = []\n",
    "for i in range(0,valid.shape[0]):\n",
    "    a = train['Close'][len(train)-30+i:].sum() + sum(preds)\n",
    "    b = a/30\n",
    "    preds.append(b)\n",
    "\n",
    "# checking the results (RMSE value)\n",
    "rms3=np.sqrt(np.mean(np.power((np.array(valid['Close'])-preds),2)))\n",
    "print('\\n RMSE value on validation set for 3rd split:')\n",
    "print(rms3)\n",
    "\n",
    "#################################################################################################\n",
    "\n",
    "#calculating  average rmse on whole dataset\n",
    "print(\"\\nAverage RMSE value of dataset\")\n",
    "print((rms1+rms2+rms3)/3)"
   ]
  },
  {
   "cell_type": "code",
   "execution_count": null,
   "metadata": {},
   "outputs": [],
   "source": []
  }
 ],
 "metadata": {
  "kernelspec": {
   "display_name": "Python 3",
   "language": "python",
   "name": "python3"
  },
  "language_info": {
   "codemirror_mode": {
    "name": "ipython",
    "version": 3
   },
   "file_extension": ".py",
   "mimetype": "text/x-python",
   "name": "python",
   "nbconvert_exporter": "python",
   "pygments_lexer": "ipython3",
   "version": "3.7.4"
  }
 },
 "nbformat": 4,
 "nbformat_minor": 2
}
